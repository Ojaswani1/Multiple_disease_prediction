{
 "cells": [
  {
   "attachments": {},
   "cell_type": "markdown",
   "metadata": {},
   "source": [
    "### Parkinson's prediction"
   ]
  },
  {
   "attachments": {},
   "cell_type": "markdown",
   "metadata": {},
   "source": [
    "#### Step 1:Importing the libraries"
   ]
  },
  {
   "cell_type": "code",
   "execution_count": null,
   "metadata": {},
   "outputs": [],
   "source": [
    "import numpy as np\n",
    "import pandas as pd\n",
    "from sklearn.preprocessing import StandardScaler\n",
    "from sklearn.model_selection import train_test_split\n",
    "from sklearn import svm\n",
    "from sklearn.metrics import accuracy_score"
   ]
  },
  {
   "attachments": {},
   "cell_type": "markdown",
   "metadata": {},
   "source": [
    "#### Data Collection and Analysis\n"
   ]
  },
  {
   "cell_type": "code",
   "execution_count": null,
   "metadata": {},
   "outputs": [],
   "source": [
    "pk = pd.read_csv(\"parkinsons.csv\")"
   ]
  },
  {
   "cell_type": "markdown",
   "metadata": {},
   "source": [
    "#### Dataset Description: Below is a brief description of the features present in the dataset:\n",
    "- name: ASCII subject name and recording number\t\n",
    "- MDVP:Fo(Hz): Average vocal fundamental frequency\n",
    "- MDVP:Fhi(Hz): Maximum vocal fundamental frequency\t\n",
    "- MDVP:Flo(Hz): Minimum vocal fundamental frequency\n",
    "- Five measures of variation in Frequency\n",
    "- MDVP:Jitter(%): Percentage of cycle-to-cycle variability of the period duration\n",
    "- MDVP:Jitter(Abs): Absolute value of cycle-to-cycle variability of the period duration\n",
    "- MDVP:RAP: Relative measure of the pitch disturbance\n",
    "- MDVP:PPQ: Pitch perturbation quotient\n",
    "- Jitter:DDP: Average absolute difference of differences between jitter cycles\t\n",
    "- Six measures of variation in amplitude\n",
    "- MDVP:Shimmer: Variations in the voice amplitdue\n",
    "- MDVP:Shimmer(dB): Variations in the voice amplitdue in dB\n",
    "- Shimmer:APQ3: Three point amplitude perturbation quotient measured against the average of the three amplitude\n",
    "- Shimmer:APQ5: Five point amplitude perturbation quotient measured against the average of the three amplitude\n",
    "- MDVP:APQ: Amplitude perturbation quotient from MDVP\n",
    "- Shimmer:DDA: Average absolute difference between the amplitudes of consecutive periods\n",
    "- Two measures of ratio of noise to tonal components in the voice\n",
    "- NHR: Noise-to-harmonics Ratio and\n",
    "- HNR: Harmonics-to-noise Ratio\n",
    "- status: Health status of the subject (one) - Parkinson's, (zero) - healthy\n",
    "- Two nonlinear dynamical complexity measures\n",
    "- RPDE: Recurrence period density entropy\n",
    "- DFA: Signal fractal scaling exponent\n",
    "- Three nonlinear measures of fundamental frequency variation\n",
    "- spread1: discrete probability distribution of occurrence of relative semitone variations\n",
    "- spread2: Three nonlinear measures of fundamental frequency variation\n",
    "- D2: correlation dimension\n",
    "- PPE: Entropy of the discrete probability distribution of occurrence of relative semitone variations "
   ]
  },
  {
   "cell_type": "code",
   "execution_count": null,
   "metadata": {},
   "outputs": [],
   "source": [
    "pk.head()"
   ]
  },
  {
   "cell_type": "code",
   "execution_count": null,
   "metadata": {},
   "outputs": [],
   "source": [
    "pk.rename(columns={\n",
    "    \"MDVP:Fo(Hz)\": \"Fundamental_Frequency\",\n",
    "    \"MDVP:Fhi(Hz)\": \"Max_Frequency\",\n",
    "    \"MDVP:Flo(Hz)\": \"Min_Frequency\",\n",
    "    \"MDVP:Jitter(%)\": \"Jitter_Percent\",\n",
    "    \"MDVP:Jitter(Abs)\": \"Jitter_Abs\",\n",
    "    \"MDVP:RAP\": \"RAP\",\n",
    "    \"MDVP:PPQ\": \"PPQ\",\n",
    "    \"Jitter:DDP\": \"Jitter_DDP\",\n",
    "    \"MDVP:Shimmer\": \"Shimmer\",\n",
    "    \"MDVP:Shimmer(dB)\": \"Shimmer_dB\",\n",
    "    \"Shimmer:APQ3\": \"Shimmer_APQ3\",\n",
    "    \"Shimmer:APQ5\": \"Shimmer_APQ5\",\n",
    "    \"MDVP:APQ\": \"MDVP_APQ\",\n",
    "    \"Shimmer:DDA\": \"Shimmer_DDA\"\n",
    "}, inplace=True)"
   ]
  },
  {
   "cell_type": "code",
   "execution_count": null,
   "metadata": {},
   "outputs": [],
   "source": [
    "pk.shape"
   ]
  },
  {
   "cell_type": "code",
   "execution_count": null,
   "metadata": {},
   "outputs": [],
   "source": [
    "pk.describe()"
   ]
  },
  {
   "cell_type": "code",
   "execution_count": null,
   "metadata": {},
   "outputs": [],
   "source": [
    "pk.info()"
   ]
  },
  {
   "cell_type": "code",
   "execution_count": null,
   "metadata": {},
   "outputs": [],
   "source": [
    "pk.isnull().sum()"
   ]
  },
  {
   "cell_type": "code",
   "execution_count": null,
   "metadata": {},
   "outputs": [],
   "source": [
    "pk['status'].value_counts()"
   ]
  },
  {
   "cell_type": "code",
   "execution_count": null,
   "metadata": {},
   "outputs": [],
   "source": [
    "pk.groupby('status').mean()"
   ]
  },
  {
   "cell_type": "code",
   "execution_count": null,
   "metadata": {},
   "outputs": [],
   "source": [
    "X = pk.drop(columns=['name','status'], axis=1)\n",
    "Y = pk['status']"
   ]
  },
  {
   "cell_type": "code",
   "execution_count": null,
   "metadata": {},
   "outputs": [],
   "source": [
    "X"
   ]
  },
  {
   "cell_type": "code",
   "execution_count": null,
   "metadata": {},
   "outputs": [],
   "source": [
    "Y"
   ]
  },
  {
   "cell_type": "code",
   "execution_count": null,
   "metadata": {},
   "outputs": [],
   "source": [
    "X_train, X_test, Y_train, Y_test = train_test_split(X,Y, test_size=0.2,stratify=Y,random_state=0 )"
   ]
  },
  {
   "cell_type": "code",
   "execution_count": null,
   "metadata": {},
   "outputs": [],
   "source": [
    "print(X_train.shape,X.shape)\n",
    "print(Y_train.shape,Y.shape)\n",
    "print(X_test.shape,X.shape)\n",
    "print(Y_test.shape,Y.shape)"
   ]
  },
  {
   "cell_type": "code",
   "execution_count": null,
   "metadata": {},
   "outputs": [],
   "source": [
    "scaler= StandardScaler()"
   ]
  },
  {
   "cell_type": "code",
   "execution_count": null,
   "metadata": {},
   "outputs": [],
   "source": [
    "scaler.fit(X_train)"
   ]
  },
  {
   "cell_type": "code",
   "execution_count": null,
   "metadata": {},
   "outputs": [],
   "source": [
    "X_train=scaler.transform(X_train)\n",
    "X_test=scaler.transform(X_test)\n",
    "\n"
   ]
  },
  {
   "cell_type": "code",
   "execution_count": null,
   "metadata": {},
   "outputs": [],
   "source": [
    "X_train"
   ]
  },
  {
   "cell_type": "code",
   "execution_count": null,
   "metadata": {},
   "outputs": [],
   "source": [
    "model = svm.SVC(kernel='linear')\n",
    "\n",
    "\n",
    "\n",
    "model.fit(X_train,Y_train)"
   ]
  },
  {
   "cell_type": "code",
   "execution_count": null,
   "metadata": {},
   "outputs": [],
   "source": [
    "X_train_prediction = model.predict(X_train)\n",
    "training_data_accuracy = accuracy_score(X_train_prediction,Y_train)"
   ]
  },
  {
   "cell_type": "code",
   "execution_count": null,
   "metadata": {},
   "outputs": [],
   "source": [
    "training_data_accuracy"
   ]
  },
  {
   "cell_type": "code",
   "execution_count": null,
   "metadata": {},
   "outputs": [],
   "source": [
    "X_test_prediction = model.predict(X_test)\n",
    "testing_data_accuracy = accuracy_score(X_test_prediction,Y_test)"
   ]
  },
  {
   "cell_type": "code",
   "execution_count": null,
   "metadata": {},
   "outputs": [],
   "source": [
    "testing_data_accuracy"
   ]
  },
  {
   "cell_type": "code",
   "execution_count": null,
   "metadata": {},
   "outputs": [],
   "source": [
    "input_data = (122.40000,148.65000,113.81900,0.00968,0.00008,0.00465,0.00696,0.01394,0.06134,0.62600,0.03134,0.04518,0.04368,0.09403,0.01929,19.08500,0.458359,0.819521,-4.075192,0.335590,2.486855,0.368674)\n",
    "\n",
    "# changing input data to numpy array\n",
    "input_numpy = np.asarray(input_data)\n",
    "\n",
    "# Reshape the array as we are predicting for one instance\n",
    "\n",
    "input_reshape = input_numpy.reshape(1,-1)\n",
    "\n",
    "\n",
    "std_data = scaler.transform(input_reshape)\n",
    "\n",
    "print(std_data)\n",
    "\n",
    "prediction = model.predict(std_data)\n",
    "print(prediction)"
   ]
  },
  {
   "cell_type": "code",
   "execution_count": null,
   "metadata": {},
   "outputs": [],
   "source": [
    "import pickle\n",
    "\n",
    "# Save trained model\n",
    "pickle.dump(model, open('parkinson_model.pkl', 'wb'))\n",
    "\n",
    "# Save scaler\n",
    "pickle.dump(scaler, open('parkinson_scaler.pkl', 'wb'))\n"
   ]
  }
 ],
 "metadata": {
  "kernelspec": {
   "display_name": "Python 3",
   "language": "python",
   "name": "python3"
  },
  "language_info": {
   "codemirror_mode": {
    "name": "ipython",
    "version": 3
   },
   "file_extension": ".py",
   "mimetype": "text/x-python",
   "name": "python",
   "nbconvert_exporter": "python",
   "pygments_lexer": "ipython3",
   "version": "3.9.13"
  },
  "orig_nbformat": 4
 },
 "nbformat": 4,
 "nbformat_minor": 2
}
